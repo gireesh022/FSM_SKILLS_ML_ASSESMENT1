{
 "cells": [
  {
   "cell_type": "code",
   "execution_count": 11,
   "id": "aa26a1be",
   "metadata": {},
   "outputs": [],
   "source": [
    "import numpy as np\n",
    "import pandas as pd\n",
    "import matplotlib.pyplot as plt"
   ]
  },
  {
   "cell_type": "markdown",
   "id": "7cabd68e",
   "metadata": {},
   "source": [
    "importing the required libraries: Numpy, Pandas, and Matplotlib."
   ]
  },
  {
   "cell_type": "code",
   "execution_count": 12,
   "id": "b326f82e",
   "metadata": {},
   "outputs": [],
   "source": [
    "# K-Means Clustering Algorithm\n",
    "def kmeans_clustering(dataset, k, max_iterations):\n",
    "    # Extract features from dataset\n",
    "    features = dataset[:, :-1]\n",
    "\n",
    "    # Initialize centroids randomly\n",
    "    centroids = features[np.random.choice(features.shape[0], k, replace=False)]\n",
    "\n",
    "    # Initialize clusters\n",
    "    clusters = np.zeros(features.shape[0])\n",
    "\n",
    "    for _ in range(max_iterations):\n",
    "        # Assign each data point to the nearest centroid\n",
    "        for i in range(features.shape[0]):\n",
    "            distances = np.linalg.norm(features[i] - centroids, axis=1)\n",
    "            cluster = np.argmin(distances)\n",
    "            clusters[i] = cluster\n",
    "\n",
    "        # Update centroids\n",
    "        for cluster in range(k):\n",
    "            cluster_points = features[clusters == cluster]\n",
    "            centroids[cluster] = np.mean(cluster_points, axis=0)\n",
    "\n",
    "    return clusters, centroids\n"
   ]
  },
  {
   "cell_type": "markdown",
   "id": "54cbe7c6",
   "metadata": {},
   "source": [
    "The kmeans_clustering function implements the K-Means Clustering algorithm. It takes the dataset, the desired number of clusters (k), and the maximum number of iterations as input. It initializes centroids randomly, assigns data points to the nearest centroid, and updates the centroids iteratively until convergence or the maximum number of iterations is reached."
   ]
  },
  {
   "cell_type": "code",
   "execution_count": 13,
   "id": "8c0e4c2e",
   "metadata": {},
   "outputs": [],
   "source": [
    "# Principal Component Analysis (PCA) Algorithm\n",
    "def pca(dataset, n_components):\n",
    "    # Extract features from dataset\n",
    "    features = dataset[:, :-1]\n",
    "\n",
    "    # Standardize the features\n",
    "    standardized_features = (features - np.mean(features, axis=0)) / np.std(features, axis=0)\n",
    "\n",
    "    # Calculate the covariance matrix\n",
    "    covariance_matrix = np.cov(standardized_features.T)\n",
    "\n",
    "    # Calculate the eigenvalues and eigenvectors\n",
    "    eigenvalues, eigenvectors = np.linalg.eig(covariance_matrix)\n",
    "\n",
    "    # Sort eigenvalues and corresponding eigenvectors in descending order\n",
    "    sorted_indices = np.argsort(eigenvalues)[::-1]\n",
    "    sorted_eigenvalues = eigenvalues[sorted_indices]\n",
    "    sorted_eigenvectors = eigenvectors[:, sorted_indices]\n",
    "\n",
    "    # Select the top n_components eigenvectors\n",
    "    selected_eigenvectors = sorted_eigenvectors[:, :n_components]\n",
    "\n",
    "    # Project the standardized features onto the selected eigenvectors\n",
    "    transformed_features = np.dot(standardized_features, selected_eigenvectors)\n",
    "\n",
    "    return transformed_features, selected_eigenvectors, sorted_eigenvalues\n"
   ]
  },
  {
   "cell_type": "markdown",
   "id": "77d9ddba",
   "metadata": {},
   "source": [
    "The pca function implements the Principal Component Analysis algorithm. It takes the dataset and the desired number of principal components (n_components) as input. It standardizes the features, calculates the covariance matrix, computes the eigenvalues and eigenvectors, and selects the top n_components eigenvectors. It then projects the standardized features onto the selected eigenvectors to obtain the transformed features."
   ]
  },
  {
   "cell_type": "code",
   "execution_count": 14,
   "id": "c08d0bbd",
   "metadata": {},
   "outputs": [],
   "source": [
    "# Load the dataset and remove the \"Species\" column\n",
    "def load_dataset(dataset_path):\n",
    "    df = pd.read_csv(dataset_path)\n",
    "    species = df[\"Species\"]\n",
    "    dataset = df.drop(\"Species\", axis=1).to_numpy()\n",
    "    return dataset, species\n"
   ]
  },
  {
   "cell_type": "markdown",
   "id": "06b27abb",
   "metadata": {},
   "source": [
    "The load_dataset function loads the dataset from a given path and removes the \"Species\" column. It returns the modified dataset and the species labels separately."
   ]
  },
  {
   "cell_type": "code",
   "execution_count": 15,
   "id": "141ba515",
   "metadata": {},
   "outputs": [],
   "source": [
    "# Visualize the clusters\n",
    "def visualize_clusters(dataset, clusters, centroids):\n",
    "    plt.scatter(dataset[:, 0], dataset[:, 1], c=clusters)\n",
    "    plt.scatter(centroids[:, 0], centroids[:, 1], marker='X', color='red')\n",
    "    plt.xlabel('Feature 1')\n",
    "    plt.ylabel('Feature 2')\n",
    "    plt.title('K-Means Clustering')\n",
    "    plt.show()"
   ]
  },
  {
   "cell_type": "markdown",
   "id": "9476cd2a",
   "metadata": {},
   "source": [
    "The visualize_clusters function visualizes the clusters obtained from K-Means Clustering. It plots the data points with different colors based on their assigned clusters and displays the centroids as red crosses."
   ]
  },
  {
   "cell_type": "code",
   "execution_count": 16,
   "id": "432eae79",
   "metadata": {},
   "outputs": [],
   "source": [
    "# Visualize the PCA results\n",
    "def visualize_pca(dataset, transformed_features):\n",
    "    plt.scatter(transformed_features[:, 0], transformed_features[:, 1])\n",
    "    plt.xlabel('Principal Component 1')\n",
    "    plt.ylabel('Principal Component 2')\n",
    "    plt.title('PCA')\n",
    "    plt.show()"
   ]
  },
  {
   "cell_type": "markdown",
   "id": "84ce762d",
   "metadata": {},
   "source": [
    "The visualize_pca function visualizes the results of PCA. It plots the transformed features on a scatter plot using the first two principal components."
   ]
  },
  {
   "cell_type": "code",
   "execution_count": 17,
   "id": "7151803b",
   "metadata": {},
   "outputs": [],
   "source": [
    "# Main function\n",
    "def main():\n",
    "    # Dataset path\n",
    "    dataset_path = \"iris_dataset.csv\"\n",
    "\n",
    "    # Load the dataset\n",
    "    dataset, species = load_dataset(dataset_path)\n",
    "\n",
    "    # Perform K-Means Clustering\n",
    "    k = 3\n",
    "    max_iterations = 100\n",
    "    clusters, centroids = kmeans_clustering(dataset, k,max_iterations)\n",
    "    # Visualize the clusters\n",
    "    visualize_clusters(dataset, clusters, centroids)\n",
    "\n",
    "    # Perform PCA\n",
    "    n_components = 2\n",
    "    transformed_features, eigenvectors, eigenvalues = pca(dataset, n_components)\n",
    "\n",
    "    # Visualize the PCA results\n",
    "    visualize_pca(dataset, transformed_features)"
   ]
  },
  {
   "cell_type": "markdown",
   "id": "3744f715",
   "metadata": {},
   "source": [
    "The main function serves as the entry point of the code. It loads the dataset, performs K-Means Clustering, visualizes the clusters, performs PCA, and visualizes the PCA results."
   ]
  }
 ],
 "metadata": {
  "kernelspec": {
   "display_name": "Python 3 (ipykernel)",
   "language": "python",
   "name": "python3"
  },
  "language_info": {
   "codemirror_mode": {
    "name": "ipython",
    "version": 3
   },
   "file_extension": ".py",
   "mimetype": "text/x-python",
   "name": "python",
   "nbconvert_exporter": "python",
   "pygments_lexer": "ipython3",
   "version": "3.10.7"
  }
 },
 "nbformat": 4,
 "nbformat_minor": 5
}
